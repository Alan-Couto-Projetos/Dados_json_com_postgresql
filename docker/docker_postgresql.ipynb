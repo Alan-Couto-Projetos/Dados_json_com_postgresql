{
 "cells": [
  {
   "cell_type": "code",
   "execution_count": 2,
   "id": "6253284c",
   "metadata": {},
   "outputs": [],
   "source": [
    "import os\n",
    "\n",
    "# Definir variáveis de ambiente antes de qualquer importação do Spark\n",
    "os.environ['JAVA_HOME'] = '/usr/lib/jvm/java-17-openjdk-amd64'\n",
    "import psycopg2.sql\n",
    "from dotenv import load_dotenv\n",
    "import findspark\n",
    "findspark.init()\n",
    "from pyspark.sql import SparkSession, Row\n",
    "import json\n"
   ]
  },
  {
   "cell_type": "code",
   "execution_count": 3,
   "id": "232cbc5d",
   "metadata": {},
   "outputs": [],
   "source": [
    "load_dotenv()\n",
    "\n",
    "# Cria conexão com o banco\n",
    "try:\n",
    "    conn = psycopg2.connect(os.getenv('DSN'))\n",
    "    cur = conn.cursor()\n",
    "except Exception as e:\n",
    "    print(\"Erro na conexão:\", e)"
   ]
  },
  {
   "cell_type": "code",
   "execution_count": 8,
   "id": "1b8adfc1",
   "metadata": {},
   "outputs": [
    {
     "name": "stdout",
     "output_type": "stream",
     "text": [
      "[('id', 'integer'), ('data_row', 'text')]\n"
     ]
    }
   ],
   "source": [
    "# Nome da tabela \n",
    "table_name = \"tabela_eventos\"\n",
    "\n",
    "# Cria a tabela principal e as colunas se ainda não existir\n",
    "cur.execute(psycopg2.sql.SQL(\"\"\"CREATE TABLE IF NOT EXISTS \n",
    "                                    {} (id SERIAL PRIMARY KEY, data_row TEXT)\n",
    "                            \"\"\").format(psycopg2.sql.Identifier(table_name))\n",
    "            )\n",
    "conn.commit()\n",
    "\n",
    "# Valida criação da tabela e schema\n",
    "cur.execute(\"\"\"SELECT \n",
    "                    column_name, \n",
    "                    data_type\n",
    "                FROM \n",
    "                    information_schema.columns\n",
    "                WHERE \n",
    "                    table_name = 'tabela_eventos';\n",
    "            \"\"\")\n",
    "type = cur.fetchall()\n",
    "print(type)\n",
    "\n"
   ]
  },
  {
   "cell_type": "code",
   "execution_count": 9,
   "id": "bfd2ca44",
   "metadata": {},
   "outputs": [],
   "source": [
    "# Verifica e cria sessão Spark\n",
    "try:\n",
    "        if SparkSession.getActiveSession() is not None:\n",
    "                spark = SparkSession.getActiveSession()\n",
    "                print(f\"Sessão Spark já ativa: {spark.sparkContext.appName}\")\n",
    "        else:\n",
    "                spark = SparkSession.builder \\\n",
    "                .appName(\"Inserir_JSON_no_PostgreSQL\") \\\n",
    "                .getOrCreate()\n",
    "except Exception as e:\n",
    "    print(\"Erro ao iniciar SparkSession:\", str(e))"
   ]
  },
  {
   "cell_type": "code",
   "execution_count": 10,
   "id": "aabb41e6",
   "metadata": {},
   "outputs": [
    {
     "name": "stdout",
     "output_type": "stream",
     "text": [
      "+-----------------------------------------------------------------------------------------------------------------------------------------------------------------------------------------------------------------------------------------------------------------------------------------------------------------------------------------------------------------------------------------------------------------------+\n",
      "|data_row                                                                                                                                                                                                                                                                                                                                                                                                               |\n",
      "+-----------------------------------------------------------------------------------------------------------------------------------------------------------------------------------------------------------------------------------------------------------------------------------------------------------------------------------------------------------------------------------------------------------------------+\n",
      "|{\"device\":{\"os\":\"Proprietary\",\"type\":\"console\"},\"event_time\":\"2025-06-01T09:00:00Z\",\"event_type\":\"product_view\",\"location\":{\"city\":\"Monterrey\",\"country\":\"Mexico\"},\"products\":[{\"category\":\"Accessories\",\"id\":6,\"name\":\"Capa de Tablet\",\"price\":99.9}],\"session_id\":\"sess-007\",\"user_id\":113}                                                                                                                          |\n",
      "|{\"device\":{\"os\":\"Proprietary\",\"type\":\"console\"},\"event_time\":\"2025-06-01T09:05:00Z\",\"event_type\":\"product_view\",\"location\":{\"city\":\"Porto Alegre\",\"country\":\"Brazil\"},\"products\":[{\"category\":\"Storage\",\"id\":15,\"name\":\"Pen Drive\",\"price\":59.9}],\"session_id\":\"sess-013\",\"user_id\":105}                                                                                                                               |\n",
      "|{\"device\":{\"os\":\"Windows\",\"type\":\"desktop\"},\"event_time\":\"2025-06-01T09:10:00Z\",\"event_type\":\"purchase\",\"location\":{\"city\":\"Curitiba\",\"country\":\"Brazil\"},\"products\":[{\"category\":\"Drones\",\"id\":8,\"name\":\"Drone Z\",\"price\":4500.0},{\"category\":\"Storage\",\"id\":15,\"name\":\"Pen Drive\",\"price\":59.9}],\"session_id\":\"sess-010\",\"user_id\":101}                                                                              |\n",
      "|{\"device\":{\"os\":\"Windows\",\"type\":\"desktop\"},\"event_time\":\"2025-06-01T09:15:00Z\",\"event_type\":\"product_view\",\"location\":{\"city\":\"New York\",\"country\":\"USA\"},\"products\":[{\"category\":\"Accessories\",\"id\":6,\"name\":\"Capa de Tablet\",\"price\":99.9}],\"session_id\":\"sess-014\",\"user_id\":102}                                                                                                                                  |\n",
      "|{\"device\":{\"os\":\"Proprietary\",\"type\":\"console\"},\"event_time\":\"2025-06-01T09:20:00Z\",\"event_type\":\"product_view\",\"location\":{\"city\":\"Rio de Janeiro\",\"country\":\"Brazil\"},\"products\":[{\"category\":\"Accessories\",\"id\":13,\"name\":\"Mouse Gamer\",\"price\":249.0}],\"session_id\":\"sess-002\",\"user_id\":124}                                                                                                                      |\n",
      "|{\"device\":{\"os\":\"Windows\",\"type\":\"desktop\"},\"event_time\":\"2025-06-01T09:25:00Z\",\"event_type\":\"product_view\",\"location\":{\"city\":\"Recife\",\"country\":\"Brazil\"},\"products\":[{\"category\":\"Gaming\",\"id\":9,\"name\":\"Console G\",\"price\":2800.0}],\"session_id\":\"sess-005\",\"user_id\":125}                                                                                                                                         |\n",
      "|{\"device\":{\"os\":\"Android\",\"type\":\"mobile\"},\"event_time\":\"2025-06-01T09:30:00Z\",\"event_type\":\"product_view\",\"location\":{\"city\":\"Curitiba\",\"country\":\"Brazil\"},\"products\":[{\"category\":\"Electronics\",\"id\":1,\"name\":\"Smartphone A\",\"price\":1200.0}],\"session_id\":\"sess-007\",\"user_id\":128}                                                                                                                                |\n",
      "|{\"device\":{\"os\":\"Windows\",\"type\":\"desktop\"},\"event_time\":\"2025-06-01T09:35:00Z\",\"event_type\":\"product_view\",\"location\":{\"city\":\"Buenos Aires\",\"country\":\"Argentina\"},\"products\":[{\"category\":\"Computers\",\"id\":11,\"name\":\"Monitor LED\",\"price\":899.0}],\"session_id\":\"sess-002\",\"user_id\":101}                                                                                                                           |\n",
      "|{\"device\":{\"os\":\"Windows\",\"type\":\"desktop\"},\"event_time\":\"2025-06-01T09:40:00Z\",\"event_type\":\"product_view\",\"location\":{\"city\":\"Buenos Aires\",\"country\":\"Argentina\"},\"products\":[{\"category\":\"Computers\",\"id\":11,\"name\":\"Monitor LED\",\"price\":899.0}],\"session_id\":\"sess-008\",\"user_id\":122}                                                                                                                           |\n",
      "|{\"device\":{\"os\":\"Proprietary\",\"type\":\"console\"},\"event_time\":\"2025-06-01T09:45:00Z\",\"event_type\":\"cart_view\",\"location\":{\"city\":\"New York\",\"country\":\"USA\"},\"products\":[{\"category\":\"Storage\",\"id\":14,\"name\":\"HD Externo\",\"price\":399.0},{\"category\":\"Accessories\",\"id\":2,\"name\":\"Fone de Ouvido\",\"price\":199.9},{\"category\":\"Gaming\",\"id\":9,\"name\":\"Console G\",\"price\":2800.0}],\"session_id\":\"sess-010\",\"user_id\":113}|\n",
      "|{\"device\":{\"os\":\"Windows\",\"type\":\"desktop\"},\"event_time\":\"2025-06-01T09:50:00Z\",\"event_type\":\"product_view\",\"location\":{\"city\":\"New York\",\"country\":\"USA\"},\"products\":[{\"category\":\"Storage\",\"id\":15,\"name\":\"Pen Drive\",\"price\":59.9}],\"session_id\":\"sess-005\",\"user_id\":106}                                                                                                                                          |\n",
      "|{\"device\":{\"os\":\"Proprietary\",\"type\":\"console\"},\"event_time\":\"2025-06-01T09:55:00Z\",\"event_type\":\"cart_view\",\"location\":{\"city\":\"Florianópolis\",\"country\":\"Brazil\"},\"products\":[{\"category\":\"Accessories\",\"id\":2,\"name\":\"Fone de Ouvido\",\"price\":199.9}],\"session_id\":\"sess-004\",\"user_id\":107}                                                                                                                        |\n",
      "|{\"device\":{\"os\":\"iOS\",\"type\":\"mobile\"},\"event_time\":\"2025-06-01T10:00:00Z\",\"event_type\":\"product_view\",\"location\":{\"city\":\"Monterrey\",\"country\":\"Mexico\"},\"products\":[{\"category\":\"Accessories\",\"id\":13,\"name\":\"Mouse Gamer\",\"price\":249.0}],\"session_id\":\"sess-011\",\"user_id\":116}                                                                                                                                    |\n",
      "|{\"device\":{\"os\":\"Windows\",\"type\":\"desktop\"},\"event_time\":\"2025-06-01T10:05:00Z\",\"event_type\":\"purchase\",\"location\":{\"city\":\"New York\",\"country\":\"USA\"},\"products\":[{\"category\":\"Gaming\",\"id\":9,\"name\":\"Console G\",\"price\":2800.0}],\"session_id\":\"sess-003\",\"user_id\":112}                                                                                                                                              |\n",
      "|{\"device\":{\"os\":\"Android\",\"type\":\"tablet\"},\"event_time\":\"2025-06-01T10:10:00Z\",\"event_type\":\"product_view\",\"location\":{\"city\":\"Rio de Janeiro\",\"country\":\"Brazil\"},\"products\":[{\"category\":\"Accessories\",\"id\":13,\"name\":\"Mouse Gamer\",\"price\":249.0}],\"session_id\":\"sess-012\",\"user_id\":108}                                                                                                                           |\n",
      "|{\"device\":{\"os\":\"Linux\",\"type\":\"desktop\"},\"event_time\":\"2025-06-01T10:15:00Z\",\"event_type\":\"product_view\",\"location\":{\"city\":\"Porto Alegre\",\"country\":\"Brazil\"},\"products\":[{\"category\":\"Electronics\",\"id\":5,\"name\":\"Tablet Z\",\"price\":1800.0}],\"session_id\":\"sess-015\",\"user_id\":101}                                                                                                                                 |\n",
      "|{\"device\":{\"os\":\"Windows\",\"type\":\"desktop\"},\"event_time\":\"2025-06-01T10:20:00Z\",\"event_type\":\"cart_view\",\"location\":{\"city\":\"New York\",\"country\":\"USA\"},\"products\":[{\"category\":\"Photography\",\"id\":7,\"name\":\"Camera X\",\"price\":2999.0}],\"session_id\":\"sess-013\",\"user_id\":101}                                                                                                                                         |\n",
      "|{\"device\":{\"os\":\"Proprietary\",\"type\":\"console\"},\"event_time\":\"2025-06-01T10:25:00Z\",\"event_type\":\"purchase\",\"location\":{\"city\":\"Monterrey\",\"country\":\"Mexico\"},\"products\":[{\"category\":\"Accessories\",\"id\":2,\"name\":\"Fone de Ouvido\",\"price\":199.9},{\"category\":\"Gaming\",\"id\":9,\"name\":\"Console G\",\"price\":2800.0}],\"session_id\":\"sess-007\",\"user_id\":118}                                                              |\n",
      "|{\"device\":{\"os\":\"iOS\",\"type\":\"mobile\"},\"event_time\":\"2025-06-01T10:30:00Z\",\"event_type\":\"product_view\",\"location\":{\"city\":\"Curitiba\",\"country\":\"Brazil\"},\"products\":[{\"category\":\"Accessories\",\"id\":13,\"name\":\"Mouse Gamer\",\"price\":249.0}],\"session_id\":\"sess-011\",\"user_id\":122}                                                                                                                                     |\n",
      "|{\"device\":{\"os\":\"iOS\",\"type\":\"mobile\"},\"event_time\":\"2025-06-01T10:35:00Z\",\"event_type\":\"purchase\",\"location\":{\"city\":\"New York\",\"country\":\"USA\"},\"products\":[{\"category\":\"Computers\",\"id\":3,\"name\":\"Notebook B\",\"price\":3500.0},{\"category\":\"Electronics\",\"id\":1,\"name\":\"Smartphone A\",\"price\":1200.0},{\"category\":\"Gaming\",\"id\":10,\"name\":\"Controle X\",\"price\":299.0}],\"session_id\":\"sess-003\",\"user_id\":119}        |\n",
      "+-----------------------------------------------------------------------------------------------------------------------------------------------------------------------------------------------------------------------------------------------------------------------------------------------------------------------------------------------------------------------------------------------------------------------+\n",
      "only showing top 20 rows\n",
      "\n"
     ]
    }
   ],
   "source": [
    "\n",
    "# import json\n",
    "# from pyspark.sql import Row\n",
    "\n",
    "# Lê o JSON bruto\n",
    "with open(\"/home/jovyan/data/eventos_usuarios.json\", \"r\") as f:\n",
    "    raw_json = json.load(f)\n",
    "\n",
    "# Cria RDD a partir do JSON lido\n",
    "rdd = spark.sparkContext.parallelize(raw_json)\n",
    "\n",
    "# Converte RDD para DataFrame\n",
    "df = spark.read.json(rdd)\n",
    "\n",
    "# Converte linha para string JSON\n",
    "from pyspark.sql.functions import to_json, struct\n",
    "\n",
    "# Cria string JSON em uma única coluna\n",
    "df_json = df.selectExpr(\"to_json(struct(*)) AS data_row\")\n",
    "df_json.show(truncate=False)\n",
    "\n",
    "\n",
    "# Escreve as linhas JSON na tabela do PostgreSQL\n",
    "df_json.write \\\n",
    "    .format(\"jdbc\") \\\n",
    "    .option(\"url\", \"jdbc:postgresql://postgres:5432/postgres\") \\\n",
    "    .option(\"dbtable\", f\"{table_name}\") \\\n",
    "    .option(\"user\", os.getenv('POSTGRES_USER')) \\\n",
    "    .option(\"password\", os.getenv('POSTGRES_PASSWORD')) \\\n",
    "    .option(\"driver\", \"org.postgresql.Driver\") \\\n",
    "    .mode(\"append\") \\\n",
    "    .save()\n",
    "\n"
   ]
  },
  {
   "cell_type": "code",
   "execution_count": 11,
   "id": "7f5f9ffb-4644-47b9-9ad4-fe580b21f7aa",
   "metadata": {},
   "outputs": [
    {
     "name": "stdout",
     "output_type": "stream",
     "text": [
      "(1, '{\"device\":{\"os\":\"Android\",\"type\":\"mobile\"},\"event_time\":\"2025-06-01T09:30:00Z\",\"event_type\":\"product_view\",\"location\":{\"city\":\"Curitiba\",\"country\":\"Brazil\"},\"products\":[{\"category\":\"Electronics\",\"id\":1,\"name\":\"Smartphone A\",\"price\":1200.0}],\"session_id\":\"sess-007\",\"user_id\":128}')\n"
     ]
    }
   ],
   "source": [
    "# Verifica dados na tabela\n",
    "cur.execute(psycopg2.sql.SQL(\"\"\"SELECT \n",
    "                                  * \n",
    "                                FROM {}\"\"\")\n",
    "            .format(psycopg2.sql.Identifier(table_name))\n",
    "            )\n",
    "row = cur.fetchone()\n",
    "print(row)"
   ]
  },
  {
   "cell_type": "code",
   "execution_count": 12,
   "id": "8214267f",
   "metadata": {},
   "outputs": [
    {
     "name": "stdout",
     "output_type": "stream",
     "text": [
      "[('Electronics',), ('Computers',), ('Computers',), ('Accessories',), ('Computers',), ('Electronics',), ('Gaming',), ('Storage',), ('Photography',), ('Storage',), ('Accessories',), ('Gaming',), ('Storage',), ('Electronics',), ('Accessories',), ('Storage',), ('Drones',), ('Accessories',), ('Accessories',), ('Storage',), ('Storage',), ('Accessories',), ('Accessories',), ('Gaming',), ('Accessories',), ('Accessories',), ('Storage',), ('Drones',), ('Storage',), ('Photography',), ('Wearables',), ('Electronics',), ('Accessories',), ('Accessories',), ('Electronics',), ('Computers',), ('Wearables',), ('Wearables',), ('Accessories',), ('Electronics',), ('Photography',), ('Accessories',), ('Gaming',), ('Accessories',), ('Accessories',), ('Gaming',)]\n"
     ]
    }
   ],
   "source": [
    "# Seleciona categorias\n",
    "cur.execute(psycopg2.sql.SQL(\"\"\" SELECT \n",
    "                                     p->>'category' AS product_name\n",
    "                                 FROM \n",
    "                                    {}, \n",
    "                                 json_array_elements(data_row::json->'products') AS p\n",
    "                            \"\"\").format(psycopg2.sql.Identifier(table_name))\n",
    "            )\n",
    "row = cur.fetchall()\n",
    "print(row)"
   ]
  },
  {
   "cell_type": "code",
   "execution_count": 5,
   "id": "972aa6e3-6558-4503-8cc3-3bdbfd527a0a",
   "metadata": {},
   "outputs": [],
   "source": [
    "# cur = conn.cursor()\n",
    "\n",
    "# # Limpa todos os dados da tabela\n",
    "# cur.execute(psycopg2.sql.SQL(\"TRUNCATE TABLE {};\").format(psycopg2.sql.Identifier(table_name)))\n",
    "# conn.commit()\n",
    "\n",
    "\n",
    "# cur.execute(psycopg2.sql.SQL(\"DROP TABLE IF EXISTS {};;\").format(psycopg2.sql.Identifier(table_name)))\n",
    "\n",
    "# conn.commit()"
   ]
  },
  {
   "cell_type": "code",
   "execution_count": 7,
   "id": "16a006e1-01f7-48ff-b3a4-5b2c561c819f",
   "metadata": {},
   "outputs": [],
   "source": [
    "# conn.rollback()  # Limpa o estado de erro anterior\n"
   ]
  },
  {
   "cell_type": "code",
   "execution_count": 13,
   "id": "09d88dc3-3547-4710-abc7-03984fb0b584",
   "metadata": {},
   "outputs": [
    {
     "name": "stdout",
     "output_type": "stream",
     "text": [
      "[('Accessories', 15), ('Storage', 8), ('Electronics', 6), ('Gaming', 5), ('Computers', 4), ('Photography', 3), ('Wearables', 3), ('Drones', 2)]\n"
     ]
    }
   ],
   "source": [
    "# Conta o número de acessos por categoria\n",
    "cur.execute(psycopg2.sql.SQL(\"\"\" SELECT \n",
    "                                     p->>'category' AS category, \n",
    "                                     COUNT(p->>'category') AS count\n",
    "                                FROM \n",
    "                                    {}, \n",
    "                                json_array_elements(data_row::json->'products') AS p\n",
    "                                GROUP BY \n",
    "                                    p->>'category' \n",
    "                                ORDER BY \n",
    "                                    count DESC\n",
    "                            \"\"\").format(psycopg2.sql.Identifier(table_name))\n",
    "            )\n",
    "row = cur.fetchall()\n",
    "print(row)"
   ]
  },
  {
   "cell_type": "code",
   "execution_count": null,
   "id": "649cf5de-4aa3-41be-be6c-dd1021841cdf",
   "metadata": {},
   "outputs": [
    {
     "name": "stdout",
     "output_type": "stream",
     "text": [
      "[('Accessories', 'Brazil', 8, 2313.8), ('Storage', 'USA', 4, 917.8), ('Accessories', 'USA', 4, 699.6), ('Electronics', 'Brazil', 4, 6600.0), ('Storage', 'Brazil', 3, 179.7), ('Accessories', 'Mexico', 3, 548.8), ('Gaming', 'USA', 3, 5899.0), ('Computers', 'Argentina', 2, 1798.0), ('Drones', 'Brazil', 2, 9000.0), ('Electronics', 'USA', 2, 3000.0), ('Computers', 'USA', 2, 7000.0), ('Photography', 'Mexico', 2, 5998.0), ('Storage', 'Mexico', 1, 399.0), ('Wearables', 'Brazil', 1, 999.0), ('Photography', 'USA', 1, 2999.0), ('Gaming', 'Brazil', 1, 2800.0), ('Gaming', 'Mexico', 1, 2800.0), ('Wearables', 'USA', 1, 999.0), ('Wearables', 'Mexico', 1, 999.0)]\n"
     ]
    }
   ],
   "source": [
    "# Número de acessos e preço agrupado por categoria e país\n",
    "cur.execute(psycopg2.sql.SQL(\"\"\" SELECT \n",
    "                                     p->>'category' AS category,\n",
    "                                      data_row::json->'location'->>'country' AS country,\n",
    "                                      COUNT(*) AS total,\n",
    "                                       SUM(CAST(p->>'price' as float)) AS total_price\n",
    "                                 FROM {}, \n",
    "                                 json_array_elements(data_row::json->'products') AS p\n",
    "                                 GROUP BY \n",
    "                                     country,\n",
    "                                     p->>'category' \n",
    "                                ORDER BY\n",
    "                                    total DESC\n",
    "                            \"\"\").format(psycopg2.sql.Identifier(table_name))\n",
    "            )\n",
    "row = cur.fetchall()\n",
    "print(row)"
   ]
  },
  {
   "cell_type": "code",
   "execution_count": 14,
   "id": "9b82523e-82d2-4706-9d7d-24c44ddd8947",
   "metadata": {},
   "outputs": [
    {
     "name": "stdout",
     "output_type": "stream",
     "text": [
      "('115', 'sess-001', [{'event_type': 'cart_view', 'event_time': '2025-06-01T10:50:00Z', 'country': 'Brazil', 'product_detail': {'product_name': 'Mouse Gamer', 'product_price': 249.0, 'product_category': 'Accessories'}}, {'event_type': 'cart_view', 'event_time': '2025-06-01T10:50:00Z', 'country': 'Brazil', 'product_detail': {'product_name': 'Drone Z', 'product_price': 4500.0, 'product_category': 'Drones'}}])\n"
     ]
    }
   ],
   "source": [
    "# JSON atividades do usuário\n",
    "cur.execute(psycopg2.sql.SQL(\"\"\" SELECT \n",
    "                                  user_id,\n",
    "                                  session_id,\n",
    "                                  json_agg(json_build_object(\n",
    "                                                'event_type', event_type,\n",
    "                                                'event_time', event_time,\n",
    "                                                'country', country,\n",
    "                                                'product_detail', json_build_object(\n",
    "                                                                            'product_name', product->'name',\n",
    "                                                                            'product_price', product->'price',\n",
    "                                                                            'product_category', product->'category'\n",
    "                                                                    )\n",
    "                                            )) AS eventos\n",
    "                                FROM (\n",
    "                                        SELECT \n",
    "                                            data_row::json->>'session_id' AS session_id,\n",
    "                                            data_row::json->>'user_id' AS user_id,\n",
    "                                            data_row::json->>'event_type' AS event_type,\n",
    "                                            data_row::json->>'event_time' AS event_time,\n",
    "                                            data_row::json->'location'->>'country' AS country,\n",
    "                                            json_array_elements(data_row::json->'products') AS product\n",
    "                                        FROM {}\n",
    "                                    ) t\n",
    "                                GROUP BY \n",
    "                                    session_id, \n",
    "                                    user_id;\n",
    "                            \"\"\").format(psycopg2.sql.Identifier(table_name))\n",
    "            )\n",
    "row = cur.fetchone()\n",
    "print(row)"
   ]
  }
 ],
 "metadata": {
  "kernelspec": {
   "display_name": "Python 3 (ipykernel)",
   "language": "python",
   "name": "python3"
  },
  "language_info": {
   "codemirror_mode": {
    "name": "ipython",
    "version": 3
   },
   "file_extension": ".py",
   "mimetype": "text/x-python",
   "name": "python",
   "nbconvert_exporter": "python",
   "pygments_lexer": "ipython3",
   "version": "3.11.6"
  }
 },
 "nbformat": 4,
 "nbformat_minor": 5
}
